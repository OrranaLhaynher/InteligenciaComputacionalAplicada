{
 "cells": [
  {
   "cell_type": "markdown",
   "metadata": {
    "papermill": {
     "duration": 0.037728,
     "end_time": "2020-10-25T00:09:02.919518",
     "exception": false,
     "start_time": "2020-10-25T00:09:02.881790",
     "status": "completed"
    },
    "tags": []
   },
   "source": [
    "# Exercício"
   ]
  },
  {
   "cell_type": "markdown",
   "metadata": {
    "papermill": {
     "duration": 0.033055,
     "end_time": "2020-10-25T00:09:02.986037",
     "exception": false,
     "start_time": "2020-10-25T00:09:02.952982",
     "status": "completed"
    },
    "tags": []
   },
   "source": [
    "### Procure uma base de dados em um dos seguintes sites: https://www.kaggle.com/datasets ou https://archive.ics.uci.edu/ml/index.php\n",
    "\n",
    "### A base escolhida deve ter pelo menos 5000 linhas e 10 colunas. Em seguida, utilizando sua criatividade e os conceitos que você aprendeu nos dois jupyter notebooks anteriores do pandas, tente realizar operações interessantes na base de dados escolhida.  \n"
   ]
  },
  {
   "cell_type": "markdown",
   "metadata": {
    "papermill": {
     "duration": 0.033106,
     "end_time": "2020-10-25T00:09:03.052619",
     "exception": false,
     "start_time": "2020-10-25T00:09:03.019513",
     "status": "completed"
    },
    "tags": []
   },
   "source": [
    "# Bibliotecas"
   ]
  },
  {
   "cell_type": "code",
   "execution_count": 1,
   "metadata": {
    "_cell_guid": "b1076dfc-b9ad-4769-8c92-a6c4dae69d19",
    "_uuid": "8f2839f25d086af736a60e9eeb907d3b93b6e0e5",
    "execution": {
     "iopub.execute_input": "2020-10-25T00:09:03.128759Z",
     "iopub.status.busy": "2020-10-25T00:09:03.127977Z",
     "iopub.status.idle": "2020-10-25T00:09:04.092431Z",
     "shell.execute_reply": "2020-10-25T00:09:04.091684Z"
    },
    "papermill": {
     "duration": 1.005981,
     "end_time": "2020-10-25T00:09:04.092557",
     "exception": false,
     "start_time": "2020-10-25T00:09:03.086576",
     "status": "completed"
    },
    "tags": []
   },
   "outputs": [],
   "source": [
    "import numpy as np \n",
    "import pandas as pd\n",
    "import seaborn as sns\n",
    "import matplotlib.pyplot as plt\n",
    "import warnings\n",
    "warnings.filterwarnings('ignore')\n",
    "%matplotlib inline"
   ]
  },
  {
   "cell_type": "code",
   "execution_count": 2,
   "metadata": {
    "execution": {
     "iopub.execute_input": "2020-10-25T00:09:04.165647Z",
     "iopub.status.busy": "2020-10-25T00:09:04.164878Z",
     "iopub.status.idle": "2020-10-25T00:09:04.168362Z",
     "shell.execute_reply": "2020-10-25T00:09:04.167656Z"
    },
    "papermill": {
     "duration": 0.041407,
     "end_time": "2020-10-25T00:09:04.168508",
     "exception": false,
     "start_time": "2020-10-25T00:09:04.127101",
     "status": "completed"
    },
    "tags": []
   },
   "outputs": [],
   "source": [
    "# Dataset contendo informações sobre crimes em São Francisco, CA\n",
    "url = '../input/sanfranciso-crime-dataset/Police_Department_Incidents_-_Previous_Year__2016_.csv'"
   ]
  },
  {
   "cell_type": "code",
   "execution_count": 3,
   "metadata": {
    "_cell_guid": "79c7e3d0-c299-4dcb-8224-4455121ee9b0",
    "_uuid": "d629ff2d2480ee46fbb7e2d37f6b5fab8052498a",
    "execution": {
     "iopub.execute_input": "2020-10-25T00:09:04.252172Z",
     "iopub.status.busy": "2020-10-25T00:09:04.251429Z",
     "iopub.status.idle": "2020-10-25T00:09:05.447207Z",
     "shell.execute_reply": "2020-10-25T00:09:05.447817Z"
    },
    "papermill": {
     "duration": 1.245231,
     "end_time": "2020-10-25T00:09:05.447971",
     "exception": false,
     "start_time": "2020-10-25T00:09:04.202740",
     "status": "completed"
    },
    "tags": []
   },
   "outputs": [
    {
     "data": {
      "text/html": [
       "<div>\n",
       "<style scoped>\n",
       "    .dataframe tbody tr th:only-of-type {\n",
       "        vertical-align: middle;\n",
       "    }\n",
       "\n",
       "    .dataframe tbody tr th {\n",
       "        vertical-align: top;\n",
       "    }\n",
       "\n",
       "    .dataframe thead th {\n",
       "        text-align: right;\n",
       "    }\n",
       "</style>\n",
       "<table border=\"1\" class=\"dataframe\">\n",
       "  <thead>\n",
       "    <tr style=\"text-align: right;\">\n",
       "      <th></th>\n",
       "      <th>IncidntNum</th>\n",
       "      <th>Category</th>\n",
       "      <th>Descript</th>\n",
       "      <th>DayOfWeek</th>\n",
       "      <th>Date</th>\n",
       "      <th>Time</th>\n",
       "      <th>PdDistrict</th>\n",
       "      <th>Resolution</th>\n",
       "      <th>Address</th>\n",
       "      <th>X</th>\n",
       "      <th>Y</th>\n",
       "      <th>Location</th>\n",
       "      <th>PdId</th>\n",
       "    </tr>\n",
       "  </thead>\n",
       "  <tbody>\n",
       "    <tr>\n",
       "      <th>0</th>\n",
       "      <td>120058272</td>\n",
       "      <td>WEAPON LAWS</td>\n",
       "      <td>POSS OF PROHIBITED WEAPON</td>\n",
       "      <td>Friday</td>\n",
       "      <td>01/29/2016 12:00:00 AM</td>\n",
       "      <td>11:00</td>\n",
       "      <td>SOUTHERN</td>\n",
       "      <td>ARREST, BOOKED</td>\n",
       "      <td>800 Block of BRYANT ST</td>\n",
       "      <td>-122.403405</td>\n",
       "      <td>37.775421</td>\n",
       "      <td>(37.775420706711, -122.403404791479)</td>\n",
       "      <td>12005827212120</td>\n",
       "    </tr>\n",
       "    <tr>\n",
       "      <th>1</th>\n",
       "      <td>120058272</td>\n",
       "      <td>WEAPON LAWS</td>\n",
       "      <td>FIREARM, LOADED, IN VEHICLE, POSSESSION OR USE</td>\n",
       "      <td>Friday</td>\n",
       "      <td>01/29/2016 12:00:00 AM</td>\n",
       "      <td>11:00</td>\n",
       "      <td>SOUTHERN</td>\n",
       "      <td>ARREST, BOOKED</td>\n",
       "      <td>800 Block of BRYANT ST</td>\n",
       "      <td>-122.403405</td>\n",
       "      <td>37.775421</td>\n",
       "      <td>(37.775420706711, -122.403404791479)</td>\n",
       "      <td>12005827212168</td>\n",
       "    </tr>\n",
       "    <tr>\n",
       "      <th>2</th>\n",
       "      <td>141059263</td>\n",
       "      <td>WARRANTS</td>\n",
       "      <td>WARRANT ARREST</td>\n",
       "      <td>Monday</td>\n",
       "      <td>04/25/2016 12:00:00 AM</td>\n",
       "      <td>14:59</td>\n",
       "      <td>BAYVIEW</td>\n",
       "      <td>ARREST, BOOKED</td>\n",
       "      <td>KEITH ST / SHAFTER AV</td>\n",
       "      <td>-122.388856</td>\n",
       "      <td>37.729981</td>\n",
       "      <td>(37.7299809672996, -122.388856204292)</td>\n",
       "      <td>14105926363010</td>\n",
       "    </tr>\n",
       "    <tr>\n",
       "      <th>3</th>\n",
       "      <td>160013662</td>\n",
       "      <td>NON-CRIMINAL</td>\n",
       "      <td>LOST PROPERTY</td>\n",
       "      <td>Tuesday</td>\n",
       "      <td>01/05/2016 12:00:00 AM</td>\n",
       "      <td>23:50</td>\n",
       "      <td>TENDERLOIN</td>\n",
       "      <td>NONE</td>\n",
       "      <td>JONES ST / OFARRELL ST</td>\n",
       "      <td>-122.412971</td>\n",
       "      <td>37.785788</td>\n",
       "      <td>(37.7857883766888, -122.412970537591)</td>\n",
       "      <td>16001366271000</td>\n",
       "    </tr>\n",
       "    <tr>\n",
       "      <th>4</th>\n",
       "      <td>160002740</td>\n",
       "      <td>NON-CRIMINAL</td>\n",
       "      <td>LOST PROPERTY</td>\n",
       "      <td>Friday</td>\n",
       "      <td>01/01/2016 12:00:00 AM</td>\n",
       "      <td>00:30</td>\n",
       "      <td>MISSION</td>\n",
       "      <td>NONE</td>\n",
       "      <td>16TH ST / MISSION ST</td>\n",
       "      <td>-122.419672</td>\n",
       "      <td>37.765050</td>\n",
       "      <td>(37.7650501214668, -122.419671780296)</td>\n",
       "      <td>16000274071000</td>\n",
       "    </tr>\n",
       "  </tbody>\n",
       "</table>\n",
       "</div>"
      ],
      "text/plain": [
       "   IncidntNum      Category                                        Descript  \\\n",
       "0   120058272   WEAPON LAWS                       POSS OF PROHIBITED WEAPON   \n",
       "1   120058272   WEAPON LAWS  FIREARM, LOADED, IN VEHICLE, POSSESSION OR USE   \n",
       "2   141059263      WARRANTS                                  WARRANT ARREST   \n",
       "3   160013662  NON-CRIMINAL                                   LOST PROPERTY   \n",
       "4   160002740  NON-CRIMINAL                                   LOST PROPERTY   \n",
       "\n",
       "  DayOfWeek                    Date   Time  PdDistrict      Resolution  \\\n",
       "0    Friday  01/29/2016 12:00:00 AM  11:00    SOUTHERN  ARREST, BOOKED   \n",
       "1    Friday  01/29/2016 12:00:00 AM  11:00    SOUTHERN  ARREST, BOOKED   \n",
       "2    Monday  04/25/2016 12:00:00 AM  14:59     BAYVIEW  ARREST, BOOKED   \n",
       "3   Tuesday  01/05/2016 12:00:00 AM  23:50  TENDERLOIN            NONE   \n",
       "4    Friday  01/01/2016 12:00:00 AM  00:30     MISSION            NONE   \n",
       "\n",
       "                  Address           X          Y  \\\n",
       "0  800 Block of BRYANT ST -122.403405  37.775421   \n",
       "1  800 Block of BRYANT ST -122.403405  37.775421   \n",
       "2   KEITH ST / SHAFTER AV -122.388856  37.729981   \n",
       "3  JONES ST / OFARRELL ST -122.412971  37.785788   \n",
       "4    16TH ST / MISSION ST -122.419672  37.765050   \n",
       "\n",
       "                                Location            PdId  \n",
       "0   (37.775420706711, -122.403404791479)  12005827212120  \n",
       "1   (37.775420706711, -122.403404791479)  12005827212168  \n",
       "2  (37.7299809672996, -122.388856204292)  14105926363010  \n",
       "3  (37.7857883766888, -122.412970537591)  16001366271000  \n",
       "4  (37.7650501214668, -122.419671780296)  16000274071000  "
      ]
     },
     "execution_count": 3,
     "metadata": {},
     "output_type": "execute_result"
    }
   ],
   "source": [
    "dataframe = pd.read_csv(url)\n",
    "dataframe.head()"
   ]
  },
  {
   "cell_type": "markdown",
   "metadata": {
    "papermill": {
     "duration": 0.03467,
     "end_time": "2020-10-25T00:09:05.518367",
     "exception": false,
     "start_time": "2020-10-25T00:09:05.483697",
     "status": "completed"
    },
    "tags": []
   },
   "source": [
    "### Longitude = X e Latitude = Y. Apresentadas na ordem Y, X."
   ]
  },
  {
   "cell_type": "code",
   "execution_count": 4,
   "metadata": {
    "execution": {
     "iopub.execute_input": "2020-10-25T00:09:05.594839Z",
     "iopub.status.busy": "2020-10-25T00:09:05.593787Z",
     "iopub.status.idle": "2020-10-25T00:09:05.597913Z",
     "shell.execute_reply": "2020-10-25T00:09:05.597244Z"
    },
    "papermill": {
     "duration": 0.044732,
     "end_time": "2020-10-25T00:09:05.598040",
     "exception": false,
     "start_time": "2020-10-25T00:09:05.553308",
     "status": "completed"
    },
    "tags": []
   },
   "outputs": [
    {
     "data": {
      "text/plain": [
       "-122.40340479147899"
      ]
     },
     "execution_count": 4,
     "metadata": {},
     "output_type": "execute_result"
    }
   ],
   "source": [
    "dataframe['X'][0]"
   ]
  },
  {
   "cell_type": "code",
   "execution_count": 5,
   "metadata": {
    "execution": {
     "iopub.execute_input": "2020-10-25T00:09:05.675793Z",
     "iopub.status.busy": "2020-10-25T00:09:05.674824Z",
     "iopub.status.idle": "2020-10-25T00:09:05.679497Z",
     "shell.execute_reply": "2020-10-25T00:09:05.678924Z"
    },
    "papermill": {
     "duration": 0.046031,
     "end_time": "2020-10-25T00:09:05.679617",
     "exception": false,
     "start_time": "2020-10-25T00:09:05.633586",
     "status": "completed"
    },
    "tags": []
   },
   "outputs": [
    {
     "data": {
      "text/plain": [
       "37.775420706711"
      ]
     },
     "execution_count": 5,
     "metadata": {},
     "output_type": "execute_result"
    }
   ],
   "source": [
    "dataframe['Y'][0]"
   ]
  },
  {
   "cell_type": "code",
   "execution_count": 6,
   "metadata": {
    "execution": {
     "iopub.execute_input": "2020-10-25T00:09:05.758692Z",
     "iopub.status.busy": "2020-10-25T00:09:05.757732Z",
     "iopub.status.idle": "2020-10-25T00:09:05.762290Z",
     "shell.execute_reply": "2020-10-25T00:09:05.761549Z"
    },
    "papermill": {
     "duration": 0.046105,
     "end_time": "2020-10-25T00:09:05.762406",
     "exception": false,
     "start_time": "2020-10-25T00:09:05.716301",
     "status": "completed"
    },
    "tags": []
   },
   "outputs": [
    {
     "data": {
      "text/plain": [
       "'(37.775420706711, -122.403404791479)'"
      ]
     },
     "execution_count": 6,
     "metadata": {},
     "output_type": "execute_result"
    }
   ],
   "source": [
    "dataframe['Location'][0]"
   ]
  },
  {
   "cell_type": "code",
   "execution_count": 7,
   "metadata": {
    "execution": {
     "iopub.execute_input": "2020-10-25T00:09:05.885314Z",
     "iopub.status.busy": "2020-10-25T00:09:05.884546Z",
     "iopub.status.idle": "2020-10-25T00:09:05.888179Z",
     "shell.execute_reply": "2020-10-25T00:09:05.887601Z"
    },
    "papermill": {
     "duration": 0.089369,
     "end_time": "2020-10-25T00:09:05.888326",
     "exception": false,
     "start_time": "2020-10-25T00:09:05.798957",
     "status": "completed"
    },
    "tags": []
   },
   "outputs": [],
   "source": [
    "dataframe = dataframe.drop('X', 1)\n",
    "dataframe = dataframe.drop('Y', 1)"
   ]
  },
  {
   "cell_type": "code",
   "execution_count": 8,
   "metadata": {
    "execution": {
     "iopub.execute_input": "2020-10-25T00:09:05.979951Z",
     "iopub.status.busy": "2020-10-25T00:09:05.972403Z",
     "iopub.status.idle": "2020-10-25T00:09:05.983788Z",
     "shell.execute_reply": "2020-10-25T00:09:05.984481Z"
    },
    "papermill": {
     "duration": 0.059328,
     "end_time": "2020-10-25T00:09:05.984643",
     "exception": false,
     "start_time": "2020-10-25T00:09:05.925315",
     "status": "completed"
    },
    "tags": []
   },
   "outputs": [
    {
     "data": {
      "text/html": [
       "<div>\n",
       "<style scoped>\n",
       "    .dataframe tbody tr th:only-of-type {\n",
       "        vertical-align: middle;\n",
       "    }\n",
       "\n",
       "    .dataframe tbody tr th {\n",
       "        vertical-align: top;\n",
       "    }\n",
       "\n",
       "    .dataframe thead th {\n",
       "        text-align: right;\n",
       "    }\n",
       "</style>\n",
       "<table border=\"1\" class=\"dataframe\">\n",
       "  <thead>\n",
       "    <tr style=\"text-align: right;\">\n",
       "      <th></th>\n",
       "      <th>IncidntNum</th>\n",
       "      <th>Category</th>\n",
       "      <th>Descript</th>\n",
       "      <th>DayOfWeek</th>\n",
       "      <th>Date</th>\n",
       "      <th>Time</th>\n",
       "      <th>PdDistrict</th>\n",
       "      <th>Resolution</th>\n",
       "      <th>Address</th>\n",
       "      <th>Location</th>\n",
       "      <th>PdId</th>\n",
       "    </tr>\n",
       "  </thead>\n",
       "  <tbody>\n",
       "    <tr>\n",
       "      <th>0</th>\n",
       "      <td>120058272</td>\n",
       "      <td>WEAPON LAWS</td>\n",
       "      <td>POSS OF PROHIBITED WEAPON</td>\n",
       "      <td>Friday</td>\n",
       "      <td>01/29/2016 12:00:00 AM</td>\n",
       "      <td>11:00</td>\n",
       "      <td>SOUTHERN</td>\n",
       "      <td>ARREST, BOOKED</td>\n",
       "      <td>800 Block of BRYANT ST</td>\n",
       "      <td>(37.775420706711, -122.403404791479)</td>\n",
       "      <td>12005827212120</td>\n",
       "    </tr>\n",
       "    <tr>\n",
       "      <th>1</th>\n",
       "      <td>120058272</td>\n",
       "      <td>WEAPON LAWS</td>\n",
       "      <td>FIREARM, LOADED, IN VEHICLE, POSSESSION OR USE</td>\n",
       "      <td>Friday</td>\n",
       "      <td>01/29/2016 12:00:00 AM</td>\n",
       "      <td>11:00</td>\n",
       "      <td>SOUTHERN</td>\n",
       "      <td>ARREST, BOOKED</td>\n",
       "      <td>800 Block of BRYANT ST</td>\n",
       "      <td>(37.775420706711, -122.403404791479)</td>\n",
       "      <td>12005827212168</td>\n",
       "    </tr>\n",
       "    <tr>\n",
       "      <th>2</th>\n",
       "      <td>141059263</td>\n",
       "      <td>WARRANTS</td>\n",
       "      <td>WARRANT ARREST</td>\n",
       "      <td>Monday</td>\n",
       "      <td>04/25/2016 12:00:00 AM</td>\n",
       "      <td>14:59</td>\n",
       "      <td>BAYVIEW</td>\n",
       "      <td>ARREST, BOOKED</td>\n",
       "      <td>KEITH ST / SHAFTER AV</td>\n",
       "      <td>(37.7299809672996, -122.388856204292)</td>\n",
       "      <td>14105926363010</td>\n",
       "    </tr>\n",
       "    <tr>\n",
       "      <th>3</th>\n",
       "      <td>160013662</td>\n",
       "      <td>NON-CRIMINAL</td>\n",
       "      <td>LOST PROPERTY</td>\n",
       "      <td>Tuesday</td>\n",
       "      <td>01/05/2016 12:00:00 AM</td>\n",
       "      <td>23:50</td>\n",
       "      <td>TENDERLOIN</td>\n",
       "      <td>NONE</td>\n",
       "      <td>JONES ST / OFARRELL ST</td>\n",
       "      <td>(37.7857883766888, -122.412970537591)</td>\n",
       "      <td>16001366271000</td>\n",
       "    </tr>\n",
       "    <tr>\n",
       "      <th>4</th>\n",
       "      <td>160002740</td>\n",
       "      <td>NON-CRIMINAL</td>\n",
       "      <td>LOST PROPERTY</td>\n",
       "      <td>Friday</td>\n",
       "      <td>01/01/2016 12:00:00 AM</td>\n",
       "      <td>00:30</td>\n",
       "      <td>MISSION</td>\n",
       "      <td>NONE</td>\n",
       "      <td>16TH ST / MISSION ST</td>\n",
       "      <td>(37.7650501214668, -122.419671780296)</td>\n",
       "      <td>16000274071000</td>\n",
       "    </tr>\n",
       "  </tbody>\n",
       "</table>\n",
       "</div>"
      ],
      "text/plain": [
       "   IncidntNum      Category                                        Descript  \\\n",
       "0   120058272   WEAPON LAWS                       POSS OF PROHIBITED WEAPON   \n",
       "1   120058272   WEAPON LAWS  FIREARM, LOADED, IN VEHICLE, POSSESSION OR USE   \n",
       "2   141059263      WARRANTS                                  WARRANT ARREST   \n",
       "3   160013662  NON-CRIMINAL                                   LOST PROPERTY   \n",
       "4   160002740  NON-CRIMINAL                                   LOST PROPERTY   \n",
       "\n",
       "  DayOfWeek                    Date   Time  PdDistrict      Resolution  \\\n",
       "0    Friday  01/29/2016 12:00:00 AM  11:00    SOUTHERN  ARREST, BOOKED   \n",
       "1    Friday  01/29/2016 12:00:00 AM  11:00    SOUTHERN  ARREST, BOOKED   \n",
       "2    Monday  04/25/2016 12:00:00 AM  14:59     BAYVIEW  ARREST, BOOKED   \n",
       "3   Tuesday  01/05/2016 12:00:00 AM  23:50  TENDERLOIN            NONE   \n",
       "4    Friday  01/01/2016 12:00:00 AM  00:30     MISSION            NONE   \n",
       "\n",
       "                  Address                               Location  \\\n",
       "0  800 Block of BRYANT ST   (37.775420706711, -122.403404791479)   \n",
       "1  800 Block of BRYANT ST   (37.775420706711, -122.403404791479)   \n",
       "2   KEITH ST / SHAFTER AV  (37.7299809672996, -122.388856204292)   \n",
       "3  JONES ST / OFARRELL ST  (37.7857883766888, -122.412970537591)   \n",
       "4    16TH ST / MISSION ST  (37.7650501214668, -122.419671780296)   \n",
       "\n",
       "             PdId  \n",
       "0  12005827212120  \n",
       "1  12005827212168  \n",
       "2  14105926363010  \n",
       "3  16001366271000  \n",
       "4  16000274071000  "
      ]
     },
     "execution_count": 8,
     "metadata": {},
     "output_type": "execute_result"
    }
   ],
   "source": [
    "dataframe.head()"
   ]
  },
  {
   "cell_type": "code",
   "execution_count": 9,
   "metadata": {
    "execution": {
     "iopub.execute_input": "2020-10-25T00:09:06.067138Z",
     "iopub.status.busy": "2020-10-25T00:09:06.066414Z",
     "iopub.status.idle": "2020-10-25T00:10:42.164039Z",
     "shell.execute_reply": "2020-10-25T00:10:42.163363Z"
    },
    "papermill": {
     "duration": 96.141504,
     "end_time": "2020-10-25T00:10:42.164171",
     "exception": false,
     "start_time": "2020-10-25T00:09:06.022667",
     "status": "completed"
    },
    "tags": []
   },
   "outputs": [],
   "source": [
    "for elem in range(len(dataframe['Date'])):\n",
    "    dataframe['Date'][elem] = dataframe['Date'][elem][:10]"
   ]
  },
  {
   "cell_type": "code",
   "execution_count": 10,
   "metadata": {
    "execution": {
     "iopub.execute_input": "2020-10-25T00:10:42.248409Z",
     "iopub.status.busy": "2020-10-25T00:10:42.247310Z",
     "iopub.status.idle": "2020-10-25T00:10:42.252097Z",
     "shell.execute_reply": "2020-10-25T00:10:42.251528Z"
    },
    "papermill": {
     "duration": 0.050256,
     "end_time": "2020-10-25T00:10:42.252247",
     "exception": false,
     "start_time": "2020-10-25T00:10:42.201991",
     "status": "completed"
    },
    "tags": []
   },
   "outputs": [
    {
     "data": {
      "text/plain": [
       "0         01/29/2016\n",
       "1         01/29/2016\n",
       "2         04/25/2016\n",
       "3         01/05/2016\n",
       "4         01/01/2016\n",
       "             ...    \n",
       "150495    12/30/2016\n",
       "150496    12/30/2016\n",
       "150497    12/29/2016\n",
       "150498    12/30/2016\n",
       "150499    12/02/2016\n",
       "Name: Date, Length: 150500, dtype: object"
      ]
     },
     "execution_count": 10,
     "metadata": {},
     "output_type": "execute_result"
    }
   ],
   "source": [
    "dataframe['Date']"
   ]
  },
  {
   "cell_type": "code",
   "execution_count": 11,
   "metadata": {
    "execution": {
     "iopub.execute_input": "2020-10-25T00:10:42.354377Z",
     "iopub.status.busy": "2020-10-25T00:10:42.353357Z",
     "iopub.status.idle": "2020-10-25T00:10:42.358956Z",
     "shell.execute_reply": "2020-10-25T00:10:42.358248Z"
    },
    "papermill": {
     "duration": 0.068259,
     "end_time": "2020-10-25T00:10:42.359075",
     "exception": false,
     "start_time": "2020-10-25T00:10:42.290816",
     "status": "completed"
    },
    "tags": []
   },
   "outputs": [
    {
     "data": {
      "text/html": [
       "<div>\n",
       "<style scoped>\n",
       "    .dataframe tbody tr th:only-of-type {\n",
       "        vertical-align: middle;\n",
       "    }\n",
       "\n",
       "    .dataframe tbody tr th {\n",
       "        vertical-align: top;\n",
       "    }\n",
       "\n",
       "    .dataframe thead th {\n",
       "        text-align: right;\n",
       "    }\n",
       "</style>\n",
       "<table border=\"1\" class=\"dataframe\">\n",
       "  <thead>\n",
       "    <tr style=\"text-align: right;\">\n",
       "      <th></th>\n",
       "      <th>IncidntNum</th>\n",
       "      <th>Category</th>\n",
       "      <th>Descript</th>\n",
       "      <th>DayOfWeek</th>\n",
       "      <th>Date</th>\n",
       "      <th>Time</th>\n",
       "      <th>PdDistrict</th>\n",
       "      <th>Resolution</th>\n",
       "      <th>Address</th>\n",
       "      <th>Location</th>\n",
       "      <th>PdId</th>\n",
       "    </tr>\n",
       "  </thead>\n",
       "  <tbody>\n",
       "    <tr>\n",
       "      <th>0</th>\n",
       "      <td>120058272</td>\n",
       "      <td>WEAPON LAWS</td>\n",
       "      <td>POSS OF PROHIBITED WEAPON</td>\n",
       "      <td>Friday</td>\n",
       "      <td>01/29/2016</td>\n",
       "      <td>11:00</td>\n",
       "      <td>SOUTHERN</td>\n",
       "      <td>ARREST, BOOKED</td>\n",
       "      <td>800 Block of BRYANT ST</td>\n",
       "      <td>(37.775420706711, -122.403404791479)</td>\n",
       "      <td>12005827212120</td>\n",
       "    </tr>\n",
       "    <tr>\n",
       "      <th>1</th>\n",
       "      <td>120058272</td>\n",
       "      <td>WEAPON LAWS</td>\n",
       "      <td>FIREARM, LOADED, IN VEHICLE, POSSESSION OR USE</td>\n",
       "      <td>Friday</td>\n",
       "      <td>01/29/2016</td>\n",
       "      <td>11:00</td>\n",
       "      <td>SOUTHERN</td>\n",
       "      <td>ARREST, BOOKED</td>\n",
       "      <td>800 Block of BRYANT ST</td>\n",
       "      <td>(37.775420706711, -122.403404791479)</td>\n",
       "      <td>12005827212168</td>\n",
       "    </tr>\n",
       "    <tr>\n",
       "      <th>2</th>\n",
       "      <td>141059263</td>\n",
       "      <td>WARRANTS</td>\n",
       "      <td>WARRANT ARREST</td>\n",
       "      <td>Monday</td>\n",
       "      <td>04/25/2016</td>\n",
       "      <td>14:59</td>\n",
       "      <td>BAYVIEW</td>\n",
       "      <td>ARREST, BOOKED</td>\n",
       "      <td>KEITH ST / SHAFTER AV</td>\n",
       "      <td>(37.7299809672996, -122.388856204292)</td>\n",
       "      <td>14105926363010</td>\n",
       "    </tr>\n",
       "    <tr>\n",
       "      <th>3</th>\n",
       "      <td>160013662</td>\n",
       "      <td>NON-CRIMINAL</td>\n",
       "      <td>LOST PROPERTY</td>\n",
       "      <td>Tuesday</td>\n",
       "      <td>01/05/2016</td>\n",
       "      <td>23:50</td>\n",
       "      <td>TENDERLOIN</td>\n",
       "      <td>NONE</td>\n",
       "      <td>JONES ST / OFARRELL ST</td>\n",
       "      <td>(37.7857883766888, -122.412970537591)</td>\n",
       "      <td>16001366271000</td>\n",
       "    </tr>\n",
       "    <tr>\n",
       "      <th>4</th>\n",
       "      <td>160002740</td>\n",
       "      <td>NON-CRIMINAL</td>\n",
       "      <td>LOST PROPERTY</td>\n",
       "      <td>Friday</td>\n",
       "      <td>01/01/2016</td>\n",
       "      <td>00:30</td>\n",
       "      <td>MISSION</td>\n",
       "      <td>NONE</td>\n",
       "      <td>16TH ST / MISSION ST</td>\n",
       "      <td>(37.7650501214668, -122.419671780296)</td>\n",
       "      <td>16000274071000</td>\n",
       "    </tr>\n",
       "    <tr>\n",
       "      <th>...</th>\n",
       "      <td>...</td>\n",
       "      <td>...</td>\n",
       "      <td>...</td>\n",
       "      <td>...</td>\n",
       "      <td>...</td>\n",
       "      <td>...</td>\n",
       "      <td>...</td>\n",
       "      <td>...</td>\n",
       "      <td>...</td>\n",
       "      <td>...</td>\n",
       "      <td>...</td>\n",
       "    </tr>\n",
       "    <tr>\n",
       "      <th>150495</th>\n",
       "      <td>161061000</td>\n",
       "      <td>ASSAULT</td>\n",
       "      <td>BATTERY</td>\n",
       "      <td>Friday</td>\n",
       "      <td>12/30/2016</td>\n",
       "      <td>21:01</td>\n",
       "      <td>PARK</td>\n",
       "      <td>NONE</td>\n",
       "      <td>OAK ST / STANYAN ST</td>\n",
       "      <td>(37.7714278595913, -122.453981622365)</td>\n",
       "      <td>16106100004134</td>\n",
       "    </tr>\n",
       "    <tr>\n",
       "      <th>150496</th>\n",
       "      <td>176000742</td>\n",
       "      <td>NON-CRIMINAL</td>\n",
       "      <td>LOST PROPERTY</td>\n",
       "      <td>Friday</td>\n",
       "      <td>12/30/2016</td>\n",
       "      <td>08:00</td>\n",
       "      <td>CENTRAL</td>\n",
       "      <td>NONE</td>\n",
       "      <td>JACKSON ST / SANSOME ST</td>\n",
       "      <td>(37.7966261239618, -122.401857374739)</td>\n",
       "      <td>17600074271000</td>\n",
       "    </tr>\n",
       "    <tr>\n",
       "      <th>150497</th>\n",
       "      <td>176000758</td>\n",
       "      <td>LARCENY/THEFT</td>\n",
       "      <td>PETTY THEFT OF PROPERTY</td>\n",
       "      <td>Thursday</td>\n",
       "      <td>12/29/2016</td>\n",
       "      <td>20:00</td>\n",
       "      <td>CENTRAL</td>\n",
       "      <td>NONE</td>\n",
       "      <td>PINE ST / TAYLOR ST</td>\n",
       "      <td>(37.7906727649886, -122.41226909106)</td>\n",
       "      <td>17600075806372</td>\n",
       "    </tr>\n",
       "    <tr>\n",
       "      <th>150498</th>\n",
       "      <td>176000764</td>\n",
       "      <td>LARCENY/THEFT</td>\n",
       "      <td>GRAND THEFT OF PROPERTY</td>\n",
       "      <td>Friday</td>\n",
       "      <td>12/30/2016</td>\n",
       "      <td>10:00</td>\n",
       "      <td>CENTRAL</td>\n",
       "      <td>NONE</td>\n",
       "      <td>200 Block of STOCKTON ST</td>\n",
       "      <td>(37.7882745285785, -122.406658711008)</td>\n",
       "      <td>17600076406374</td>\n",
       "    </tr>\n",
       "    <tr>\n",
       "      <th>150499</th>\n",
       "      <td>179002868</td>\n",
       "      <td>OTHER OFFENSES</td>\n",
       "      <td>FRAUDULENT GAME OR TRICK, OBTAINING MONEY OR P...</td>\n",
       "      <td>Friday</td>\n",
       "      <td>12/02/2016</td>\n",
       "      <td>14:00</td>\n",
       "      <td>SOUTHERN</td>\n",
       "      <td>NONE</td>\n",
       "      <td>800 Block of BRYANT ST</td>\n",
       "      <td>(37.775420706711, -122.403404791479)</td>\n",
       "      <td>17900286809024</td>\n",
       "    </tr>\n",
       "  </tbody>\n",
       "</table>\n",
       "<p>150500 rows × 11 columns</p>\n",
       "</div>"
      ],
      "text/plain": [
       "        IncidntNum        Category  \\\n",
       "0        120058272     WEAPON LAWS   \n",
       "1        120058272     WEAPON LAWS   \n",
       "2        141059263        WARRANTS   \n",
       "3        160013662    NON-CRIMINAL   \n",
       "4        160002740    NON-CRIMINAL   \n",
       "...            ...             ...   \n",
       "150495   161061000         ASSAULT   \n",
       "150496   176000742    NON-CRIMINAL   \n",
       "150497   176000758   LARCENY/THEFT   \n",
       "150498   176000764   LARCENY/THEFT   \n",
       "150499   179002868  OTHER OFFENSES   \n",
       "\n",
       "                                                 Descript DayOfWeek  \\\n",
       "0                               POSS OF PROHIBITED WEAPON    Friday   \n",
       "1          FIREARM, LOADED, IN VEHICLE, POSSESSION OR USE    Friday   \n",
       "2                                          WARRANT ARREST    Monday   \n",
       "3                                           LOST PROPERTY   Tuesday   \n",
       "4                                           LOST PROPERTY    Friday   \n",
       "...                                                   ...       ...   \n",
       "150495                                            BATTERY    Friday   \n",
       "150496                                      LOST PROPERTY    Friday   \n",
       "150497                            PETTY THEFT OF PROPERTY  Thursday   \n",
       "150498                            GRAND THEFT OF PROPERTY    Friday   \n",
       "150499  FRAUDULENT GAME OR TRICK, OBTAINING MONEY OR P...    Friday   \n",
       "\n",
       "              Date   Time  PdDistrict      Resolution  \\\n",
       "0       01/29/2016  11:00    SOUTHERN  ARREST, BOOKED   \n",
       "1       01/29/2016  11:00    SOUTHERN  ARREST, BOOKED   \n",
       "2       04/25/2016  14:59     BAYVIEW  ARREST, BOOKED   \n",
       "3       01/05/2016  23:50  TENDERLOIN            NONE   \n",
       "4       01/01/2016  00:30     MISSION            NONE   \n",
       "...            ...    ...         ...             ...   \n",
       "150495  12/30/2016  21:01        PARK            NONE   \n",
       "150496  12/30/2016  08:00     CENTRAL            NONE   \n",
       "150497  12/29/2016  20:00     CENTRAL            NONE   \n",
       "150498  12/30/2016  10:00     CENTRAL            NONE   \n",
       "150499  12/02/2016  14:00    SOUTHERN            NONE   \n",
       "\n",
       "                         Address                               Location  \\\n",
       "0         800 Block of BRYANT ST   (37.775420706711, -122.403404791479)   \n",
       "1         800 Block of BRYANT ST   (37.775420706711, -122.403404791479)   \n",
       "2          KEITH ST / SHAFTER AV  (37.7299809672996, -122.388856204292)   \n",
       "3         JONES ST / OFARRELL ST  (37.7857883766888, -122.412970537591)   \n",
       "4           16TH ST / MISSION ST  (37.7650501214668, -122.419671780296)   \n",
       "...                          ...                                    ...   \n",
       "150495       OAK ST / STANYAN ST  (37.7714278595913, -122.453981622365)   \n",
       "150496   JACKSON ST / SANSOME ST  (37.7966261239618, -122.401857374739)   \n",
       "150497       PINE ST / TAYLOR ST   (37.7906727649886, -122.41226909106)   \n",
       "150498  200 Block of STOCKTON ST  (37.7882745285785, -122.406658711008)   \n",
       "150499    800 Block of BRYANT ST   (37.775420706711, -122.403404791479)   \n",
       "\n",
       "                  PdId  \n",
       "0       12005827212120  \n",
       "1       12005827212168  \n",
       "2       14105926363010  \n",
       "3       16001366271000  \n",
       "4       16000274071000  \n",
       "...                ...  \n",
       "150495  16106100004134  \n",
       "150496  17600074271000  \n",
       "150497  17600075806372  \n",
       "150498  17600076406374  \n",
       "150499  17900286809024  \n",
       "\n",
       "[150500 rows x 11 columns]"
      ]
     },
     "execution_count": 11,
     "metadata": {},
     "output_type": "execute_result"
    }
   ],
   "source": [
    "dataframe"
   ]
  },
  {
   "cell_type": "code",
   "execution_count": 12,
   "metadata": {
    "execution": {
     "iopub.execute_input": "2020-10-25T00:10:42.442900Z",
     "iopub.status.busy": "2020-10-25T00:10:42.442107Z",
     "iopub.status.idle": "2020-10-25T00:10:42.454725Z",
     "shell.execute_reply": "2020-10-25T00:10:42.455289Z"
    },
    "papermill": {
     "duration": 0.056996,
     "end_time": "2020-10-25T00:10:42.455452",
     "exception": false,
     "start_time": "2020-10-25T00:10:42.398456",
     "status": "completed"
    },
    "tags": []
   },
   "outputs": [
    {
     "data": {
      "text/plain": [
       "116699"
      ]
     },
     "execution_count": 12,
     "metadata": {},
     "output_type": "execute_result"
    }
   ],
   "source": [
    "len(np.unique(dataframe['IncidntNum']))"
   ]
  },
  {
   "cell_type": "code",
   "execution_count": 13,
   "metadata": {
    "execution": {
     "iopub.execute_input": "2020-10-25T00:10:42.540811Z",
     "iopub.status.busy": "2020-10-25T00:10:42.540011Z",
     "iopub.status.idle": "2020-10-25T00:10:42.551801Z",
     "shell.execute_reply": "2020-10-25T00:10:42.551070Z"
    },
    "papermill": {
     "duration": 0.056391,
     "end_time": "2020-10-25T00:10:42.551920",
     "exception": false,
     "start_time": "2020-10-25T00:10:42.495529",
     "status": "completed"
    },
    "tags": []
   },
   "outputs": [
    {
     "data": {
      "text/plain": [
       "150500"
      ]
     },
     "execution_count": 13,
     "metadata": {},
     "output_type": "execute_result"
    }
   ],
   "source": [
    "len(np.unique(dataframe['PdId']))"
   ]
  },
  {
   "cell_type": "code",
   "execution_count": 14,
   "metadata": {
    "execution": {
     "iopub.execute_input": "2020-10-25T00:10:42.783174Z",
     "iopub.status.busy": "2020-10-25T00:10:42.781972Z",
     "iopub.status.idle": "2020-10-25T00:10:42.791889Z",
     "shell.execute_reply": "2020-10-25T00:10:42.792424Z"
    },
    "papermill": {
     "duration": 0.200107,
     "end_time": "2020-10-25T00:10:42.792586",
     "exception": false,
     "start_time": "2020-10-25T00:10:42.592479",
     "status": "completed"
    },
    "tags": []
   },
   "outputs": [
    {
     "data": {
      "text/plain": [
       "IncidntNum    0\n",
       "Category      0\n",
       "Descript      0\n",
       "DayOfWeek     0\n",
       "Date          0\n",
       "Time          0\n",
       "PdDistrict    1\n",
       "Resolution    0\n",
       "Address       0\n",
       "Location      0\n",
       "PdId          0\n",
       "dtype: int64"
      ]
     },
     "execution_count": 14,
     "metadata": {},
     "output_type": "execute_result"
    }
   ],
   "source": [
    "dataframe.isnull().sum()"
   ]
  },
  {
   "cell_type": "code",
   "execution_count": 15,
   "metadata": {
    "execution": {
     "iopub.execute_input": "2020-10-25T00:10:43.024038Z",
     "iopub.status.busy": "2020-10-25T00:10:43.023285Z",
     "iopub.status.idle": "2020-10-25T00:10:43.073731Z",
     "shell.execute_reply": "2020-10-25T00:10:43.073087Z"
    },
    "papermill": {
     "duration": 0.240105,
     "end_time": "2020-10-25T00:10:43.073879",
     "exception": false,
     "start_time": "2020-10-25T00:10:42.833774",
     "status": "completed"
    },
    "tags": []
   },
   "outputs": [],
   "source": [
    "dataframe.dropna(inplace=True)"
   ]
  },
  {
   "cell_type": "markdown",
   "metadata": {
    "papermill": {
     "duration": 0.040877,
     "end_time": "2020-10-25T00:10:43.156280",
     "exception": false,
     "start_time": "2020-10-25T00:10:43.115403",
     "status": "completed"
    },
    "tags": []
   },
   "source": [
    "### Qual o crime mais frequente? 6 primeiros e plotar gráfico"
   ]
  },
  {
   "cell_type": "code",
   "execution_count": 16,
   "metadata": {
    "execution": {
     "iopub.execute_input": "2020-10-25T00:10:43.295923Z",
     "iopub.status.busy": "2020-10-25T00:10:43.283394Z",
     "iopub.status.idle": "2020-10-25T00:10:43.308454Z",
     "shell.execute_reply": "2020-10-25T00:10:43.307719Z"
    },
    "papermill": {
     "duration": 0.111026,
     "end_time": "2020-10-25T00:10:43.308577",
     "exception": false,
     "start_time": "2020-10-25T00:10:43.197551",
     "status": "completed"
    },
    "tags": []
   },
   "outputs": [
    {
     "data": {
      "text/plain": [
       "WEAPON LAWS                     1658\n",
       "WARRANTS                        5914\n",
       "NON-CRIMINAL                   17866\n",
       "ASSAULT                        13577\n",
       "OTHER OFFENSES                 19599\n",
       "MISSING PERSON                  4338\n",
       "LARCENY/THEFT                  40408\n",
       "BURGLARY                        5802\n",
       "STOLEN PROPERTY                  882\n",
       "ROBBERY                         3299\n",
       "FRAUD                           2635\n",
       "DRUG/NARCOTIC                   4243\n",
       "VEHICLE THEFT                   6419\n",
       "RECOVERED VEHICLE                736\n",
       "VANDALISM                       8589\n",
       "ARSON                            286\n",
       "PROSTITUTION                     641\n",
       "SECONDARY CODES                 1841\n",
       "SUSPICIOUS OCC                  5782\n",
       "DRUNKENNESS                      465\n",
       "TRESPASS                        1812\n",
       "SEX OFFENSES, NON FORCIBLE        40\n",
       "SEX OFFENSES, FORCIBLE           940\n",
       "RUNAWAY                          140\n",
       "KIDNAPPING                       257\n",
       "DISORDERLY CONDUCT               658\n",
       "DRIVING UNDER THE INFLUENCE      378\n",
       "FORGERY/COUNTERFEITING           619\n",
       "EMBEZZLEMENT                     168\n",
       "BRIBERY                           66\n",
       "FAMILY OFFENSES                   53\n",
       "GAMBLING                          20\n",
       "SUICIDE                           69\n",
       "LIQUOR LAWS                      156\n",
       "EXTORTION                         60\n",
       "LOITERING                         42\n",
       "TREA                               3\n",
       "BAD CHECKS                        34\n",
       "PORNOGRAPHY/OBSCENE MAT            4\n",
       "Name: Category, dtype: int64"
      ]
     },
     "execution_count": 16,
     "metadata": {},
     "output_type": "execute_result"
    }
   ],
   "source": [
    "#Número de ocorrências de todas as categorias de crime\n",
    "dataframe['Category'].value_counts().reindex(dataframe['Category'].unique())"
   ]
  },
  {
   "cell_type": "code",
   "execution_count": 17,
   "metadata": {
    "execution": {
     "iopub.execute_input": "2020-10-25T00:10:43.440564Z",
     "iopub.status.busy": "2020-10-25T00:10:43.439541Z",
     "iopub.status.idle": "2020-10-25T00:10:43.444304Z",
     "shell.execute_reply": "2020-10-25T00:10:43.443663Z"
    },
    "papermill": {
     "duration": 0.09358,
     "end_time": "2020-10-25T00:10:43.444432",
     "exception": false,
     "start_time": "2020-10-25T00:10:43.350852",
     "status": "completed"
    },
    "tags": []
   },
   "outputs": [
    {
     "data": {
      "text/plain": [
       "LARCENY/THEFT     40408\n",
       "OTHER OFFENSES    19599\n",
       "NON-CRIMINAL      17866\n",
       "ASSAULT           13577\n",
       "VANDALISM          8589\n",
       "VEHICLE THEFT      6419\n",
       "WARRANTS           5914\n",
       "BURGLARY           5802\n",
       "SUSPICIOUS OCC     5782\n",
       "MISSING PERSON     4338\n",
       "Name: Category, dtype: int64"
      ]
     },
     "execution_count": 17,
     "metadata": {},
     "output_type": "execute_result"
    }
   ],
   "source": [
    "categoriasMF =  dataframe['Category'].value_counts()[:10]\n",
    "categoriasMF"
   ]
  },
  {
   "cell_type": "code",
   "execution_count": 18,
   "metadata": {
    "execution": {
     "iopub.execute_input": "2020-10-25T00:10:43.537963Z",
     "iopub.status.busy": "2020-10-25T00:10:43.537203Z",
     "iopub.status.idle": "2020-10-25T00:10:43.714858Z",
     "shell.execute_reply": "2020-10-25T00:10:43.715461Z"
    },
    "papermill": {
     "duration": 0.228219,
     "end_time": "2020-10-25T00:10:43.715613",
     "exception": false,
     "start_time": "2020-10-25T00:10:43.487394",
     "status": "completed"
    },
    "tags": []
   },
   "outputs": [
    {
     "data": {
      "image/png": "[encoded data removed]",
      "text/plain": [
       "<Figure size 504x504 with 1 Axes>"
      ]
     },
     "metadata": {},
     "output_type": "display_data"
    }
   ],
   "source": [
    "cmap = plt.cm.YlGnBu\n",
    "colors = cmap(np.linspace(0., 1., 10))\n",
    "\n",
    "plot = categoriasMF.plot.pie(autopct=\"%.1f%%\", colors = colors, title = 'As 10 categorias de crimes mais cometidos', figsize=(7, 7))"
   ]
  },
  {
   "cell_type": "markdown",
   "metadata": {
    "papermill": {
     "duration": 0.043654,
     "end_time": "2020-10-25T00:10:43.803768",
     "exception": false,
     "start_time": "2020-10-25T00:10:43.760114",
     "status": "completed"
    },
    "tags": []
   },
   "source": [
    "### Quais são os crimes mais cometidos de acordo com os dias da semana?"
   ]
  },
  {
   "cell_type": "code",
   "execution_count": 19,
   "metadata": {
    "execution": {
     "iopub.execute_input": "2020-10-25T00:10:43.938437Z",
     "iopub.status.busy": "2020-10-25T00:10:43.935347Z",
     "iopub.status.idle": "2020-10-25T00:10:43.943071Z",
     "shell.execute_reply": "2020-10-25T00:10:43.942360Z"
    },
    "papermill": {
     "duration": 0.095358,
     "end_time": "2020-10-25T00:10:43.943201",
     "exception": false,
     "start_time": "2020-10-25T00:10:43.847843",
     "status": "completed"
    },
    "tags": []
   },
   "outputs": [
    {
     "data": {
      "text/plain": [
       "Friday       23371\n",
       "Saturday     22172\n",
       "Thursday     21395\n",
       "Wednesday    21332\n",
       "Tuesday      21242\n",
       "Monday       20783\n",
       "Sunday       20204\n",
       "Name: DayOfWeek, dtype: int64"
      ]
     },
     "execution_count": 19,
     "metadata": {},
     "output_type": "execute_result"
    }
   ],
   "source": [
    "days = dataframe['DayOfWeek'].value_counts()\n",
    "days "
   ]
  },
  {
   "cell_type": "code",
   "execution_count": 20,
   "metadata": {
    "execution": {
     "iopub.execute_input": "2020-10-25T00:10:44.049205Z",
     "iopub.status.busy": "2020-10-25T00:10:44.038965Z",
     "iopub.status.idle": "2020-10-25T00:10:44.140561Z",
     "shell.execute_reply": "2020-10-25T00:10:44.141285Z"
    },
    "papermill": {
     "duration": 0.153251,
     "end_time": "2020-10-25T00:10:44.141443",
     "exception": false,
     "start_time": "2020-10-25T00:10:43.988192",
     "status": "completed"
    },
    "tags": []
   },
   "outputs": [
    {
     "data": {
      "image/png": "[encoded data removed]",
      "text/plain": [
       "<Figure size 504x504 with 1 Axes>"
      ]
     },
     "metadata": {},
     "output_type": "display_data"
    }
   ],
   "source": [
    "cmap = plt.cm.YlGnBu\n",
    "colors = cmap(np.linspace(0., 1., 10))\n",
    "\n",
    "plot = days.plot.pie(autopct=\"%.1f%%\", colors = colors, title = 'Dias da semana', figsize=(7, 7))"
   ]
  },
  {
   "cell_type": "code",
   "execution_count": 21,
   "metadata": {
    "execution": {
     "iopub.execute_input": "2020-10-25T00:10:44.270512Z",
     "iopub.status.busy": "2020-10-25T00:10:44.269737Z",
     "iopub.status.idle": "2020-10-25T00:10:44.473034Z",
     "shell.execute_reply": "2020-10-25T00:10:44.472347Z"
    },
    "papermill": {
     "duration": 0.284681,
     "end_time": "2020-10-25T00:10:44.473165",
     "exception": false,
     "start_time": "2020-10-25T00:10:44.188484",
     "status": "completed"
    },
    "tags": []
   },
   "outputs": [],
   "source": [
    "friday = dataframe.loc[(dataframe['DayOfWeek'] == 'Friday')]\n",
    "saturday = dataframe.loc[(dataframe['DayOfWeek'] == 'Saturday')]\n",
    "thursday = dataframe.loc[(dataframe['DayOfWeek'] == 'Thursday')]\n",
    "wednesday = dataframe.loc[(dataframe['DayOfWeek'] == 'Wednesday')]\n",
    "tuesday = dataframe.loc[(dataframe['DayOfWeek'] == 'Tuesday')]\n",
    "monday = dataframe.loc[(dataframe['DayOfWeek'] == 'Monday')]\n",
    "sunday = dataframe.loc[(dataframe['DayOfWeek'] == 'Sunday')]"
   ]
  },
  {
   "cell_type": "code",
   "execution_count": 22,
   "metadata": {
    "execution": {
     "iopub.execute_input": "2020-10-25T00:10:44.581197Z",
     "iopub.status.busy": "2020-10-25T00:10:44.580131Z",
     "iopub.status.idle": "2020-10-25T00:10:44.584462Z",
     "shell.execute_reply": "2020-10-25T00:10:44.583728Z"
    },
    "papermill": {
     "duration": 0.064901,
     "end_time": "2020-10-25T00:10:44.584584",
     "exception": false,
     "start_time": "2020-10-25T00:10:44.519683",
     "status": "completed"
    },
    "tags": []
   },
   "outputs": [
    {
     "data": {
      "text/plain": [
       "LARCENY/THEFT     6477\n",
       "OTHER OFFENSES    2974\n",
       "NON-CRIMINAL      2882\n",
       "ASSAULT           2082\n",
       "VANDALISM         1350\n",
       "Name: Category, dtype: int64"
      ]
     },
     "execution_count": 22,
     "metadata": {},
     "output_type": "execute_result"
    }
   ],
   "source": [
    "friday['Category'].value_counts()[:5]"
   ]
  },
  {
   "cell_type": "code",
   "execution_count": 23,
   "metadata": {
    "execution": {
     "iopub.execute_input": "2020-10-25T00:10:44.693247Z",
     "iopub.status.busy": "2020-10-25T00:10:44.692455Z",
     "iopub.status.idle": "2020-10-25T00:10:44.696912Z",
     "shell.execute_reply": "2020-10-25T00:10:44.696346Z"
    },
    "papermill": {
     "duration": 0.065264,
     "end_time": "2020-10-25T00:10:44.697043",
     "exception": false,
     "start_time": "2020-10-25T00:10:44.631779",
     "status": "completed"
    },
    "tags": []
   },
   "outputs": [
    {
     "data": {
      "text/plain": [
       "LARCENY/THEFT     6384\n",
       "NON-CRIMINAL      2722\n",
       "OTHER OFFENSES    2583\n",
       "ASSAULT           2157\n",
       "VANDALISM         1322\n",
       "Name: Category, dtype: int64"
      ]
     },
     "execution_count": 23,
     "metadata": {},
     "output_type": "execute_result"
    }
   ],
   "source": [
    "saturday['Category'].value_counts()[:5]"
   ]
  },
  {
   "cell_type": "markdown",
   "metadata": {
    "papermill": {
     "duration": 0.04731,
     "end_time": "2020-10-25T00:10:44.792169",
     "exception": false,
     "start_time": "2020-10-25T00:10:44.744859",
     "status": "completed"
    },
    "tags": []
   },
   "source": [
    "### De acordo com o turno, qual é o tipo de crime mais cometido?"
   ]
  },
  {
   "cell_type": "code",
   "execution_count": 24,
   "metadata": {
    "execution": {
     "iopub.execute_input": "2020-10-25T00:10:44.943358Z",
     "iopub.status.busy": "2020-10-25T00:10:44.942563Z",
     "iopub.status.idle": "2020-10-25T00:10:45.047500Z",
     "shell.execute_reply": "2020-10-25T00:10:45.046682Z"
    },
    "papermill": {
     "duration": 0.20537,
     "end_time": "2020-10-25T00:10:45.047626",
     "exception": false,
     "start_time": "2020-10-25T00:10:44.842256",
     "status": "completed"
    },
    "tags": []
   },
   "outputs": [],
   "source": [
    "morning = dataframe.loc[((dataframe['Time'] > '00:00') & (dataframe['Time'] < '12:00'))]\n",
    "afternoon = dataframe.loc[((dataframe['Time'] > '12:00') & (dataframe['Time'] < '18:00'))]\n",
    "evening = dataframe.loc[(dataframe['Time'] > '18:00')]"
   ]
  },
  {
   "cell_type": "code",
   "execution_count": 25,
   "metadata": {
    "execution": {
     "iopub.execute_input": "2020-10-25T00:10:45.165361Z",
     "iopub.status.busy": "2020-10-25T00:10:45.164278Z",
     "iopub.status.idle": "2020-10-25T00:10:45.170661Z",
     "shell.execute_reply": "2020-10-25T00:10:45.171188Z"
    },
    "papermill": {
     "duration": 0.074943,
     "end_time": "2020-10-25T00:10:45.171370",
     "exception": false,
     "start_time": "2020-10-25T00:10:45.096427",
     "status": "completed"
    },
    "tags": []
   },
   "outputs": [
    {
     "data": {
      "text/plain": [
       "00:01    3397\n",
       "10:00    1989\n",
       "09:00    1886\n",
       "08:00    1839\n",
       "11:00    1806\n",
       "Name: Time, dtype: int64"
      ]
     },
     "execution_count": 25,
     "metadata": {},
     "output_type": "execute_result"
    }
   ],
   "source": [
    "morning['Time'].value_counts()[:5]"
   ]
  },
  {
   "cell_type": "code",
   "execution_count": 26,
   "metadata": {
    "execution": {
     "iopub.execute_input": "2020-10-25T00:10:45.290601Z",
     "iopub.status.busy": "2020-10-25T00:10:45.289535Z",
     "iopub.status.idle": "2020-10-25T00:10:45.297445Z",
     "shell.execute_reply": "2020-10-25T00:10:45.296717Z"
    },
    "papermill": {
     "duration": 0.077737,
     "end_time": "2020-10-25T00:10:45.297571",
     "exception": false,
     "start_time": "2020-10-25T00:10:45.219834",
     "status": "completed"
    },
    "tags": []
   },
   "outputs": [
    {
     "data": {
      "text/plain": [
       "17:00    2830\n",
       "16:00    2443\n",
       "15:00    2406\n",
       "14:00    2163\n",
       "13:00    1907\n",
       "Name: Time, dtype: int64"
      ]
     },
     "execution_count": 26,
     "metadata": {},
     "output_type": "execute_result"
    }
   ],
   "source": [
    "afternoon['Time'].value_counts()[:5]"
   ]
  },
  {
   "cell_type": "code",
   "execution_count": 27,
   "metadata": {
    "execution": {
     "iopub.execute_input": "2020-10-25T00:10:45.416741Z",
     "iopub.status.busy": "2020-10-25T00:10:45.415717Z",
     "iopub.status.idle": "2020-10-25T00:10:45.419178Z",
     "shell.execute_reply": "2020-10-25T00:10:45.419894Z"
    },
    "papermill": {
     "duration": 0.073161,
     "end_time": "2020-10-25T00:10:45.420048",
     "exception": false,
     "start_time": "2020-10-25T00:10:45.346887",
     "status": "completed"
    },
    "tags": []
   },
   "outputs": [
    {
     "data": {
      "text/plain": [
       "19:00    2912\n",
       "20:00    2902\n",
       "21:00    2590\n",
       "22:00    2479\n",
       "23:00    2084\n",
       "Name: Time, dtype: int64"
      ]
     },
     "execution_count": 27,
     "metadata": {},
     "output_type": "execute_result"
    }
   ],
   "source": [
    "evening['Time'].value_counts()[:5]"
   ]
  },
  {
   "cell_type": "markdown",
   "metadata": {
    "papermill": {
     "duration": 0.049153,
     "end_time": "2020-10-25T00:10:45.518605",
     "exception": false,
     "start_time": "2020-10-25T00:10:45.469452",
     "status": "completed"
    },
    "tags": []
   },
   "source": [
    "### Crimes por horário"
   ]
  },
  {
   "cell_type": "code",
   "execution_count": 28,
   "metadata": {
    "execution": {
     "iopub.execute_input": "2020-10-25T00:10:45.639610Z",
     "iopub.status.busy": "2020-10-25T00:10:45.638808Z",
     "iopub.status.idle": "2020-10-25T00:10:45.643346Z",
     "shell.execute_reply": "2020-10-25T00:10:45.642774Z"
    },
    "papermill": {
     "duration": 0.075372,
     "end_time": "2020-10-25T00:10:45.643472",
     "exception": false,
     "start_time": "2020-10-25T00:10:45.568100",
     "status": "completed"
    },
    "tags": []
   },
   "outputs": [
    {
     "data": {
      "text/plain": [
       "LARCENY/THEFT     11240\n",
       "OTHER OFFENSES     7288\n",
       "NON-CRIMINAL       6480\n",
       "ASSAULT            5129\n",
       "VANDALISM          2915\n",
       "Name: Category, dtype: int64"
      ]
     },
     "execution_count": 28,
     "metadata": {},
     "output_type": "execute_result"
    }
   ],
   "source": [
    "morning['Category'].value_counts()[:5]"
   ]
  },
  {
   "cell_type": "code",
   "execution_count": 29,
   "metadata": {
    "execution": {
     "iopub.execute_input": "2020-10-25T00:10:45.766561Z",
     "iopub.status.busy": "2020-10-25T00:10:45.765653Z",
     "iopub.status.idle": "2020-10-25T00:10:45.770315Z",
     "shell.execute_reply": "2020-10-25T00:10:45.769576Z"
    },
    "papermill": {
     "duration": 0.076506,
     "end_time": "2020-10-25T00:10:45.770435",
     "exception": false,
     "start_time": "2020-10-25T00:10:45.693929",
     "status": "completed"
    },
    "tags": []
   },
   "outputs": [
    {
     "data": {
      "text/plain": [
       "LARCENY/THEFT     12975\n",
       "OTHER OFFENSES     6284\n",
       "NON-CRIMINAL       6159\n",
       "ASSAULT            4006\n",
       "VANDALISM          2176\n",
       "Name: Category, dtype: int64"
      ]
     },
     "execution_count": 29,
     "metadata": {},
     "output_type": "execute_result"
    }
   ],
   "source": [
    "afternoon['Category'].value_counts()[:5]"
   ]
  },
  {
   "cell_type": "code",
   "execution_count": 30,
   "metadata": {
    "execution": {
     "iopub.execute_input": "2020-10-25T00:10:45.896937Z",
     "iopub.status.busy": "2020-10-25T00:10:45.891764Z",
     "iopub.status.idle": "2020-10-25T00:10:45.905919Z",
     "shell.execute_reply": "2020-10-25T00:10:45.905094Z"
    },
    "papermill": {
     "duration": 0.084946,
     "end_time": "2020-10-25T00:10:45.906080",
     "exception": false,
     "start_time": "2020-10-25T00:10:45.821134",
     "status": "completed"
    },
    "tags": []
   },
   "outputs": [
    {
     "data": {
      "text/plain": [
       "LARCENY/THEFT     13955\n",
       "OTHER OFFENSES     5171\n",
       "NON-CRIMINAL       4437\n",
       "ASSAULT            4095\n",
       "VANDALISM          3066\n",
       "Name: Category, dtype: int64"
      ]
     },
     "execution_count": 30,
     "metadata": {},
     "output_type": "execute_result"
    }
   ],
   "source": [
    "evening['Category'].value_counts()[:5]"
   ]
  },
  {
   "cell_type": "markdown",
   "metadata": {
    "papermill": {
     "duration": 0.05403,
     "end_time": "2020-10-25T00:10:46.027644",
     "exception": false,
     "start_time": "2020-10-25T00:10:45.973614",
     "status": "completed"
    },
    "tags": []
   },
   "source": [
    "### Número de casos por distrito"
   ]
  },
  {
   "cell_type": "code",
   "execution_count": 31,
   "metadata": {
    "execution": {
     "iopub.execute_input": "2020-10-25T00:10:46.178698Z",
     "iopub.status.busy": "2020-10-25T00:10:46.175063Z",
     "iopub.status.idle": "2020-10-25T00:10:46.183637Z",
     "shell.execute_reply": "2020-10-25T00:10:46.182914Z"
    },
    "papermill": {
     "duration": 0.104299,
     "end_time": "2020-10-25T00:10:46.183760",
     "exception": false,
     "start_time": "2020-10-25T00:10:46.079461",
     "status": "completed"
    },
    "tags": []
   },
   "outputs": [
    {
     "data": {
      "text/plain": [
       "SOUTHERN      28445\n",
       "NORTHERN      20100\n",
       "MISSION       19503\n",
       "CENTRAL       17666\n",
       "BAYVIEW       14303\n",
       "INGLESIDE     11594\n",
       "TARAVAL       11325\n",
       "TENDERLOIN     9942\n",
       "RICHMOND       8922\n",
       "PARK           8699\n",
       "Name: PdDistrict, dtype: int64"
      ]
     },
     "execution_count": 31,
     "metadata": {},
     "output_type": "execute_result"
    }
   ],
   "source": [
    "districts = dataframe['PdDistrict'].value_counts()\n",
    "districts"
   ]
  },
  {
   "cell_type": "code",
   "execution_count": 32,
   "metadata": {
    "execution": {
     "iopub.execute_input": "2020-10-25T00:10:46.300560Z",
     "iopub.status.busy": "2020-10-25T00:10:46.295830Z",
     "iopub.status.idle": "2020-10-25T00:10:46.412264Z",
     "shell.execute_reply": "2020-10-25T00:10:46.411528Z"
    },
    "papermill": {
     "duration": 0.176101,
     "end_time": "2020-10-25T00:10:46.412388",
     "exception": false,
     "start_time": "2020-10-25T00:10:46.236287",
     "status": "completed"
    },
    "tags": []
   },
   "outputs": [
    {
     "data": {
      "image/png": "[encoded data removed]",
      "text/plain": [
       "<Figure size 504x504 with 1 Axes>"
      ]
     },
     "metadata": {},
     "output_type": "display_data"
    }
   ],
   "source": [
    "cmap = plt.cm.YlGnBu\n",
    "colors = cmap(np.linspace(0., 1., 10))\n",
    "\n",
    "plot = districts.plot.pie(autopct=\"%.1f%%\", colors = colors, title = 'Porcentagem de casos por distrito', figsize=(7, 7))"
   ]
  },
  {
   "cell_type": "markdown",
   "metadata": {
    "papermill": {
     "duration": 0.053625,
     "end_time": "2020-10-25T00:10:46.519576",
     "exception": false,
     "start_time": "2020-10-25T00:10:46.465951",
     "status": "completed"
    },
    "tags": []
   },
   "source": [
    "### Decisão de acordo com a categoria de crime"
   ]
  },
  {
   "cell_type": "code",
   "execution_count": 33,
   "metadata": {
    "execution": {
     "iopub.execute_input": "2020-10-25T00:10:46.674423Z",
     "iopub.status.busy": "2020-10-25T00:10:46.673553Z",
     "iopub.status.idle": "2020-10-25T00:10:46.677842Z",
     "shell.execute_reply": "2020-10-25T00:10:46.677241Z"
    },
    "papermill": {
     "duration": 0.104843,
     "end_time": "2020-10-25T00:10:46.677961",
     "exception": false,
     "start_time": "2020-10-25T00:10:46.573118",
     "status": "completed"
    },
    "tags": []
   },
   "outputs": [
    {
     "data": {
      "text/plain": [
       "NONE                     107779\n",
       "ARREST, BOOKED            39416\n",
       "UNFOUNDED                  1608\n",
       "JUVENILE BOOKED            1056\n",
       "EXCEPTIONAL CLEARANCE       371\n",
       "Name: Resolution, dtype: int64"
      ]
     },
     "execution_count": 33,
     "metadata": {},
     "output_type": "execute_result"
    }
   ],
   "source": [
    "dataframe['Resolution'].value_counts()[:5]"
   ]
  },
  {
   "cell_type": "code",
   "execution_count": 34,
   "metadata": {
    "execution": {
     "iopub.execute_input": "2020-10-25T00:10:46.819862Z",
     "iopub.status.busy": "2020-10-25T00:10:46.819039Z",
     "iopub.status.idle": "2020-10-25T00:10:46.872179Z",
     "shell.execute_reply": "2020-10-25T00:10:46.872756Z"
    },
    "papermill": {
     "duration": 0.139346,
     "end_time": "2020-10-25T00:10:46.872926",
     "exception": false,
     "start_time": "2020-10-25T00:10:46.733580",
     "status": "completed"
    },
    "tags": []
   },
   "outputs": [
    {
     "data": {
      "text/plain": [
       "LARCENY/THEFT     38573\n",
       "NON-CRIMINAL      15843\n",
       "ASSAULT            7936\n",
       "VANDALISM          7569\n",
       "OTHER OFFENSES     6969\n",
       "VEHICLE THEFT      5847\n",
       "SUSPICIOUS OCC     5207\n",
       "BURGLARY           4754\n",
       "MISSING PERSON     3870\n",
       "ROBBERY            2581\n",
       "Name: Category, dtype: int64"
      ]
     },
     "execution_count": 34,
     "metadata": {},
     "output_type": "execute_result"
    }
   ],
   "source": [
    "none = dataframe.loc[dataframe['Resolution'] == 'NONE']\n",
    "none['Category'].value_counts()[:10]"
   ]
  },
  {
   "cell_type": "code",
   "execution_count": 35,
   "metadata": {
    "execution": {
     "iopub.execute_input": "2020-10-25T00:10:47.014686Z",
     "iopub.status.busy": "2020-10-25T00:10:47.013821Z",
     "iopub.status.idle": "2020-10-25T00:10:47.039698Z",
     "shell.execute_reply": "2020-10-25T00:10:47.039028Z"
    },
    "papermill": {
     "duration": 0.111706,
     "end_time": "2020-10-25T00:10:47.039825",
     "exception": false,
     "start_time": "2020-10-25T00:10:46.928119",
     "status": "completed"
    },
    "tags": []
   },
   "outputs": [
    {
     "data": {
      "text/plain": [
       "OTHER OFFENSES    12061\n",
       "WARRANTS           5470\n",
       "ASSAULT            5416\n",
       "DRUG/NARCOTIC      3806\n",
       "LARCENY/THEFT      1711\n",
       "NON-CRIMINAL       1269\n",
       "WEAPON LAWS        1150\n",
       "BURGLARY           1018\n",
       "TRESPASS           1011\n",
       "VANDALISM           979\n",
       "Name: Category, dtype: int64"
      ]
     },
     "execution_count": 35,
     "metadata": {},
     "output_type": "execute_result"
    }
   ],
   "source": [
    "booked = dataframe.loc[dataframe['Resolution'] == 'ARREST, BOOKED']\n",
    "booked['Category'].value_counts()[:10]"
   ]
  },
  {
   "cell_type": "code",
   "execution_count": 36,
   "metadata": {
    "execution": {
     "iopub.execute_input": "2020-10-25T00:10:47.181905Z",
     "iopub.status.busy": "2020-10-25T00:10:47.181092Z",
     "iopub.status.idle": "2020-10-25T00:10:47.192045Z",
     "shell.execute_reply": "2020-10-25T00:10:47.191291Z"
    },
    "papermill": {
     "duration": 0.096507,
     "end_time": "2020-10-25T00:10:47.192179",
     "exception": false,
     "start_time": "2020-10-25T00:10:47.095672",
     "status": "completed"
    },
    "tags": []
   },
   "outputs": [
    {
     "data": {
      "text/plain": [
       "NON-CRIMINAL              573\n",
       "VEHICLE THEFT             201\n",
       "MISSING PERSON            200\n",
       "SUSPICIOUS OCC            192\n",
       "OTHER OFFENSES            175\n",
       "FORGERY/COUNTERFEITING     51\n",
       "ASSAULT                    30\n",
       "SEX OFFENSES, FORCIBLE     27\n",
       "LARCENY/THEFT              25\n",
       "FRAUD                      21\n",
       "Name: Category, dtype: int64"
      ]
     },
     "execution_count": 36,
     "metadata": {},
     "output_type": "execute_result"
    }
   ],
   "source": [
    "unfouded = dataframe.loc[dataframe['Resolution'] == 'UNFOUNDED']\n",
    "unfouded['Category'].value_counts()[:10]"
   ]
  },
  {
   "cell_type": "code",
   "execution_count": 37,
   "metadata": {
    "execution": {
     "iopub.execute_input": "2020-10-25T00:10:47.338596Z",
     "iopub.status.busy": "2020-10-25T00:10:47.337553Z",
     "iopub.status.idle": "2020-10-25T00:10:47.346896Z",
     "shell.execute_reply": "2020-10-25T00:10:47.346159Z"
    },
    "papermill": {
     "duration": 0.097907,
     "end_time": "2020-10-25T00:10:47.347020",
     "exception": false,
     "start_time": "2020-10-25T00:10:47.249113",
     "status": "completed"
    },
    "tags": []
   },
   "outputs": [
    {
     "data": {
      "text/plain": [
       "OTHER OFFENSES     238\n",
       "ASSAULT            134\n",
       "SECONDARY CODES    123\n",
       "LARCENY/THEFT       84\n",
       "ROBBERY             74\n",
       "WARRANTS            71\n",
       "WEAPON LAWS         65\n",
       "MISSING PERSON      58\n",
       "DRUG/NARCOTIC       44\n",
       "VANDALISM           26\n",
       "Name: Category, dtype: int64"
      ]
     },
     "execution_count": 37,
     "metadata": {},
     "output_type": "execute_result"
    }
   ],
   "source": [
    "juvenile = dataframe.loc[dataframe['Resolution'] == 'JUVENILE BOOKED']\n",
    "juvenile['Category'].value_counts()[:10]"
   ]
  },
  {
   "cell_type": "code",
   "execution_count": 38,
   "metadata": {
    "execution": {
     "iopub.execute_input": "2020-10-25T00:10:47.493781Z",
     "iopub.status.busy": "2020-10-25T00:10:47.489518Z",
     "iopub.status.idle": "2020-10-25T00:10:47.498498Z",
     "shell.execute_reply": "2020-10-25T00:10:47.497791Z"
    },
    "papermill": {
     "duration": 0.094913,
     "end_time": "2020-10-25T00:10:47.498622",
     "exception": false,
     "start_time": "2020-10-25T00:10:47.403709",
     "status": "completed"
    },
    "tags": []
   },
   "outputs": [
    {
     "data": {
      "text/plain": [
       "NON-CRIMINAL              130\n",
       "ASSAULT                    48\n",
       "PROSTITUTION               34\n",
       "OTHER OFFENSES             31\n",
       "SUSPICIOUS OCC             30\n",
       "MISSING PERSON             29\n",
       "SEX OFFENSES, FORCIBLE     18\n",
       "LARCENY/THEFT              10\n",
       "SECONDARY CODES             7\n",
       "ROBBERY                     6\n",
       "Name: Category, dtype: int64"
      ]
     },
     "execution_count": 38,
     "metadata": {},
     "output_type": "execute_result"
    }
   ],
   "source": [
    "exceptional = dataframe.loc[dataframe['Resolution'] == 'EXCEPTIONAL CLEARANCE']\n",
    "exceptional['Category'].value_counts()[:10]"
   ]
  }
 ],
 "metadata": {
  "kernelspec": {
   "display_name": "Python 3",
   "language": "python",
   "name": "python3"
  },
  "language_info": {
   "codemirror_mode": {
    "name": "ipython",
    "version": 3
   },
   "file_extension": ".py",
   "mimetype": "text/x-python",
   "name": "python",
   "nbconvert_exporter": "python",
   "pygments_lexer": "ipython3",
   "version": "3.7.6"
  },
  "papermill": {
   "duration": 109.331433,
   "end_time": "2020-10-25T00:10:47.664253",
   "environment_variables": {},
   "exception": null,
   "input_path": "__notebook__.ipynb",
   "output_path": "__notebook__.ipynb",
   "parameters": {},
   "start_time": "2020-10-25T00:08:58.332820",
   "version": "2.1.0"
  }
 },
 "nbformat": 4,
 "nbformat_minor": 4
}
